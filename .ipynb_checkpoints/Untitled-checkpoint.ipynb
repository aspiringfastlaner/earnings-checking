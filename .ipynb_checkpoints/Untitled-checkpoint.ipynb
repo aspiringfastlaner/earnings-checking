{
 "cells": [
  {
   "cell_type": "code",
   "execution_count": 2,
   "metadata": {
    "collapsed": true
   },
   "outputs": [],
   "source": [
    "#%% Importing modules and data\n",
    "import smtplib\n",
    "import pandas as pd\n",
    "import numpy as np\n",
    "import datetime as dt\n",
    "import pandas.stats.moments as st\n",
    "from pandas import ExcelWriter\n",
    "import matplotlib.pyplot as plt\n",
    "import os\n",
    "import quandl as qd\n",
    "import seaborn as sns\n",
    "import matplotlib.dates as dates\n",
    "import matplotlib.ticker as ticker\n",
    "from pandas_datareader import data\n",
    "from lxml import html\n",
    "import requests\n",
    "import webbrowser\n",
    "from bs4 import BeautifulSoup as bs\n",
    "import json\n",
    "import csv\n",
    "import os\n",
    "import glob"
   ]
  },
  {
   "cell_type": "code",
   "execution_count": null,
   "metadata": {
    "collapsed": true
   },
   "outputs": [],
   "source": [
    "'''\n",
    "Fields\n",
    "market_cap_usd\n",
    "name\n",
    "price_usd\n",
    "symbol\n",
    "'''\n",
    "exclusion_list = []# ['BCC','XRP','USDT']\n",
    "capital = 20000\n",
    "\n",
    "response = requests.get('https://api.coinmarketcap.com/v1/ticker/')\n",
    "json_data = json.loads(response.text)\n",
    "i = 0\n",
    "crypto_df = {}\n",
    "for cc in json_data:\n",
    "    temp_df = pd.DataFrame(cc, index = [i])[['symbol','name','market_cap_usd','price_usd']]\n",
    "    if len(crypto_df) == 0:\n",
    "        crypto_df = temp_df\n",
    "    else:\n",
    "        crypto_df = pd.concat([crypto_df,temp_df],axis = 0)\n",
    "    i += 1\n",
    "    \n",
    "crypto_df['market_cap_usd'] = pd.to_numeric(crypto_df['market_cap_usd'])\n",
    "crypto_df['price_usd'] = pd.to_numeric(crypto_df['price_usd'])\n",
    "\n",
    "crypto_df = crypto_df.sort_values(by = 'market_cap_usd', ascending = False)\n",
    "crypto_df = crypto_df[crypto_df['symbol'].isin(exclusion_list) == False]#[:30]\n",
    "\n",
    "crypto_df['weight'] = crypto_df['market_cap_usd']/crypto_df['market_cap_usd'].sum()\n",
    "crypto_df['dollar_weight'] = crypto_df['weight']*capital\n",
    "crypto_df['expected_holdings'] = crypto_df['dollar_weight']/crypto_df['price_usd']\n",
    "\n",
    "crypto_list = [(lambda x: x.lower().replace(\" \", \"-\"))(x) for x in list(crypto_df['name'])]"
   ]
  }
 ],
 "metadata": {
  "kernelspec": {
   "display_name": "Python 3",
   "language": "python",
   "name": "python3"
  },
  "language_info": {
   "codemirror_mode": {
    "name": "ipython",
    "version": 3
   },
   "file_extension": ".py",
   "mimetype": "text/x-python",
   "name": "python",
   "nbconvert_exporter": "python",
   "pygments_lexer": "ipython3",
   "version": "3.6.1"
  }
 },
 "nbformat": 4,
 "nbformat_minor": 2
}
