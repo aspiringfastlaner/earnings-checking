{
 "cells": [
  {
   "cell_type": "code",
   "execution_count": 2,
   "metadata": {
    "collapsed": true
   },
   "outputs": [],
   "source": [
    "#%% Importing modules and data\n",
    "import smtplib\n",
    "import pandas as pd\n",
    "import numpy as np\n",
    "import datetime as dt\n",
    "import pandas.stats.moments as st\n",
    "from pandas import ExcelWriter\n",
    "import matplotlib.pyplot as plt\n",
    "import os\n",
    "import quandl as qd\n",
    "import seaborn as sns\n",
    "import matplotlib.dates as dates\n",
    "import matplotlib.ticker as ticker\n",
    "from pandas_datareader import data\n",
    "\n",
    "%matplotlib inline\n",
    "\n",
    "def save_xls(list_dfs, xls_path,sheet_names):\n",
    "    writer = ExcelWriter(xls_path)\n",
    "    for n, df in enumerate(list_dfs):\n",
    "        df.to_excel(writer, sheet_names[n])\n",
    "    writer.save()\n",
    "    return"
   ]
  },
  {
   "cell_type": "code",
   "execution_count": null,
   "metadata": {},
   "outputs": [],
   "source": [
    "\n",
    "\n",
    "# Define the instruments to download. We would like to see Apple, Microsoft and the S&P500 index.\n",
    "# Use site: http://optionsforum.net/topic/268/50-stocks-with-most-liquid-options\n",
    "'''\n",
    "tickers = ['ABT', 'ABBV', 'PNR', 'CL', 'HRL', 'CLX', 'LOW', 'PG', 'BCR', 'PEP', 'CTAS',\n",
    "          'XOM', 'EMR', 'PPG', 'GWW', 'ADM', 'TGT', 'AFL', 'ED', 'MMM', 'SHW', 'CVX',\n",
    "          'WBA', 'SPGI', 'JNJ', 'DOV', 'KO', 'SWK', 'CAH', 'MCD', 'APD', 'FRT', 'VFC',\n",
    "          'KMB', 'WMT', 'BDX', 'GPC', 'ADP', 'LEG', 'TROW', 'ECL', 'CINF', 'MDT', 'MKC',\n",
    "          'ITW', 'BEN', 'NUE', 'SYY', 'T', 'GD']\n",
    "'''\n",
    "tickers = pd.read_csv('jan29list.csv')\n",
    "tickers = list(tickers['Ticker'])\n",
    "#tickers = ['TSN','JD']\n",
    "# Define which online source one should use\n",
    "data_source = 'yahoo'\n",
    "\n",
    "# We would like all available data from 01/01/2000 until 12/31/2016.\n",
    "start_date = '2007-01-01'\n",
    "end_date = '2017-12-14'\n",
    "\n",
    "start = dt.datetime(2007, 1, 1)\n",
    "end = dt.datetime.today()\n",
    "\n",
    "# User pandas_reader.data.DataReader to load the desired data. As simple as that.\n",
    "panel_data = data.DataReader(tickers, data_source, start, end)\n",
    "\n",
    "# panel_data.minor_xs('SPY')\n",
    "\n",
    "# Getting just the adjusted closing prices. This will return a Pandas DataFrame\n",
    "# The index in this DataFrame is the major index of the panel_data.\n",
    "close = panel_data.ix['Close']\n",
    "\n",
    "# Getting all weekdays between start_date and end_date\n",
    "#all_weekdays = pd.date_range(start=start_date, end=end_date, freq='B')\n",
    "\n",
    "# How do we align the existing prices in adj_close with our new set of dates?\n",
    "# All we need to do is reindex close using all_weekdays as the new index\n",
    "#close = close.reindex(all_weekdays)\n"
   ]
  },
  {
   "cell_type": "code",
   "execution_count": 4,
   "metadata": {
    "collapsed": true
   },
   "outputs": [],
   "source": [
    "# Function for calculating standard dev and price moves in terms of standard dev\n",
    "# DF[[Adj Close]] Rolling Period --> DF[['Daily Vol','Daily Price Vol','Price Dev','Annual Vol']]\n",
    "def price_devs(close_prices,roll_period,plot_window, hist_window,ticker):\n",
    "    df = close_prices.copy()\n",
    "    df.columns = ['prices']\n",
    "    df['prices_delta'] = df.prices - df.prices.shift(1)\n",
    "    df['log_returns'] = np.log(df.prices) - np.log(df.prices.shift(1))\n",
    "    df['daily_vol'] = st.rolling_std(df.log_returns, roll_period, ddof = 1)\n",
    "    df['daily_vol_dollar'] = df.daily_vol*df.prices\n",
    "    df['price_dev'] = df.prices_delta/df.daily_vol_dollar.shift(1)\n",
    "    df['annual_vol'] = df.daily_vol*np.sqrt(252)\n",
    "    \n",
    "    fig, axes = plt.subplots(nrows=2, ncols=2, figsize = (20,10))\n",
    "    \n",
    "    df['price_dev'].tail(plot_window).plot(kind = 'bar',ax=axes[0,0], rot=20)\n",
    "    \n",
    "    # Make most of the ticklabels empty so the labels don't get too crowded\n",
    "    ticklabels = ['']*len(df.tail(plot_window).index)\n",
    "    # Every ith ticklable shows the month and day\n",
    "    i = int(plot_window/10)\n",
    "    ticklabels[::i] = [item.strftime('%b %d %Y') for item in df.tail(plot_window).index[::i]]\n",
    "    # Every jth ticklabel includes the year\n",
    "    j = i\n",
    "    ticklabels[::j] = [item.strftime('%b %d\\n%Y') for item in df.tail(plot_window).index[::j]]\n",
    "    #axes[0,0].xaxis.set_major_formatter(ticker.FormatStrFormatter(ticklabels))\n",
    "    axes[0,0].set_xlabel('')\n",
    "    axes[0,0].set_xticklabels(ticklabels)\n",
    "    \n",
    "    df.tail(hist_window).price_dev.hist(bins = 20,ax=axes[0,1])\n",
    "    df.tail(hist_window)[df.price_dev < 0].price_dev.hist(bins = 10,ax=axes[1,0])\n",
    "    df.tail(hist_window)[df.price_dev >= 0].price_dev.hist(bins = 10,ax=axes[1,1])\n",
    "    \n",
    "    axes[0,0].set_title('Period Price Deviations')\n",
    "    axes[0,1].set_title('Distribution of Price Deviations')\n",
    "    axes[1,0].set_title('Left-Side Distribution')\n",
    "    axes[1,1].set_title('Right-Side Distribution')\n",
    "    fig.suptitle(ticker,fontsize=20)\n",
    "    print(df.tail(5))\n",
    "    return df"
   ]
  },
  {
   "cell_type": "code",
   "execution_count": 5,
   "metadata": {
    "collapsed": true
   },
   "outputs": [],
   "source": [
    "def vol_summary(adj_c_df,rolling_period,lookback_window,hist_window,ticker):\n",
    "    etf = price_devs(adj_c_df,rolling_period,lookback_window,hist_window,ticker)\n",
    "    \n",
    "    # Describing Deviation Data\n",
    "    obs = hist_window\n",
    "\n",
    "    #print(etf.price_dev.tail(obs).describe())#percentiles = list(np.arange(0.1,1,0.1))))\n",
    "    print('---------------------')\n",
    "    # Finding date of largest drop\n",
    "    print('Date of largest drop')\n",
    "    print(etf.price_dev.tail(obs).iloc[etf.price_dev.tail(obs).index.get_loc(etf.price_dev.tail(obs).idxmin())])\n",
    "    print(etf.price_dev.tail(obs).idxmin())\n",
    "    print('---------------------')\n",
    "    # Finding date of largest spike\n",
    "    print('Date of largest spike')\n",
    "    print(etf.price_dev.tail(obs).iloc[etf.price_dev.tail(obs).index.get_loc(etf.price_dev.tail(obs).idxmax())])\n",
    "    print(etf.price_dev.tail(obs).idxmax())\n",
    "    print('---------------------')\n",
    "    # Histogram Bins\n",
    "    d = {'Std Bins':np.histogram(etf.price_dev.tail(obs), 40, (-20,20))[1][:-1],\n",
    "        'Frequency':np.histogram(etf.price_dev.tail(obs), 40, (-20,20))[0]}\n",
    "    df = pd.DataFrame(d,index = d['Std Bins'])[['Frequency']]\n",
    "    #print(df)\n",
    "    return df, etf"
   ]
  },
  {
   "cell_type": "code",
   "execution_count": 13,
   "metadata": {
    "scrolled": false
   },
   "outputs": [
    {
     "name": "stderr",
     "output_type": "stream",
     "text": [
      "C:\\Users\\Fang\\Anaconda3\\lib\\site-packages\\ipykernel_launcher.py:8: FutureWarning: pd.rolling_std is deprecated for Series and will be removed in a future version, replace with \n",
      "\tSeries.rolling(window=4,center=False).std(ddof=1)\n",
      "  \n"
     ]
    },
    {
     "name": "stdout",
     "output_type": "stream",
     "text": [
      "               prices  prices_delta  log_returns  daily_vol  daily_vol_dollar  \\\n",
      "Date                                                                            \n",
      "2007-01-09  17.820000      0.050000     0.002810   0.011941          0.212794   \n",
      "2007-01-08  17.860001      0.040001     0.002242   0.011780          0.210387   \n",
      "2007-01-05  17.639999     -0.220002    -0.012395   0.013939          0.245883   \n",
      "2007-01-04  17.680000      0.040001     0.002265   0.007421          0.131212   \n",
      "2007-01-03  17.510000     -0.170000    -0.009662   0.007749          0.135686   \n",
      "\n",
      "            price_dev  annual_vol  \n",
      "Date                               \n",
      "2007-01-09   0.178117    0.189562  \n",
      "2007-01-08   0.187980    0.186998  \n",
      "2007-01-05  -1.045701    0.221274  \n",
      "2007-01-04   0.162683    0.117812  \n",
      "2007-01-03  -1.295618    0.123012  \n",
      "---------------------\n",
      "Date of largest drop\n",
      "-7.79606126872\n",
      "2008-04-17 00:00:00\n",
      "---------------------\n",
      "Date of largest spike\n",
      "4.94894681012\n",
      "2008-09-05 00:00:00\n",
      "---------------------\n"
     ]
    },
    {
     "name": "stderr",
     "output_type": "stream",
     "text": [
      "C:\\Users\\Fang\\Anaconda3\\lib\\site-packages\\ipykernel_launcher.py:30: UserWarning: Boolean Series key will be reindexed to match DataFrame index.\n",
      "C:\\Users\\Fang\\Anaconda3\\lib\\site-packages\\ipykernel_launcher.py:31: UserWarning: Boolean Series key will be reindexed to match DataFrame index.\n"
     ]
    },
    {
     "data": {
      "text/plain": [
       "3.5371642927402811"
      ]
     },
     "execution_count": 13,
     "metadata": {},
     "output_type": "execute_result"
    },
    {
     "data": {
      "image/png": "[encoded data removed]",
      "text/plain": [
       "<matplotlib.figure.Figure at 0x210735af518>"
      ]
     },
     "metadata": {},
     "output_type": "display_data"
    }
   ],
   "source": [
    "rolling_period = 4\n",
    "lookback_window = 200\n",
    "hist_window = 500\n",
    "ticker = 'ORCL'\n",
    "summary, full_df = vol_summary(close[[ticker]],rolling_period,lookback_window,hist_window,ticker)\n",
    "full_df['price_dev'].dropna().skew()"
   ]
  },
  {
   "cell_type": "code",
   "execution_count": null,
   "metadata": {
    "scrolled": false
   },
   "outputs": [],
   "source": [
    "rolling_period = 4\n",
    "lookback_window = 100\n",
    "hist_window = 500\n",
    "for ticker in tickers:\n",
    "    stock = vol_summary(close[[ticker]],rolling_period,lookback_window,hist_window,ticker)"
   ]
  },
  {
   "cell_type": "code",
   "execution_count": null,
   "metadata": {
    "scrolled": true
   },
   "outputs": [],
   "source": [
    "dic = {}\n",
    "clse = []\n",
    "tkers = []\n",
    "for ticker in tickers:\n",
    "    clse = clse + [close[[ticker]].iloc[-1][ticker]]\n",
    "    tkers = tkers + [ticker]\n",
    "    \n",
    "dic['Close'] = clse\n",
    "dic['Ticker'] = tkers\n",
    "pd.DataFrame(dic)"
   ]
  },
  {
   "cell_type": "code",
   "execution_count": null,
   "metadata": {},
   "outputs": [],
   "source": []
  },
  {
   "cell_type": "code",
   "execution_count": 14,
   "metadata": {},
   "outputs": [
    {
     "data": {
      "text/plain": [
       "0.75157125093740373"
      ]
     },
     "execution_count": 14,
     "metadata": {},
     "output_type": "execute_result"
    }
   ],
   "source": [
    "full_df['price_dev'].dropna().skew()"
   ]
  },
  {
   "cell_type": "code",
   "execution_count": 15,
   "metadata": {},
   "outputs": [
    {
     "data": {
      "text/plain": [
       "count    2605.000000\n",
       "mean        0.057219\n",
       "std         1.819942\n",
       "min       -11.782973\n",
       "25%        -0.655835\n",
       "50%         0.013202\n",
       "75%         0.782285\n",
       "max        24.518553\n",
       "Name: price_dev, dtype: float64"
      ]
     },
     "execution_count": 15,
     "metadata": {},
     "output_type": "execute_result"
    }
   ],
   "source": [
    "full_df['price_dev'].dropna().describe()"
   ]
  },
  {
   "cell_type": "code",
   "execution_count": 28,
   "metadata": {},
   "outputs": [
    {
     "name": "stdout",
     "output_type": "stream",
     "text": [
      "Threshold stdev: 4 \n",
      "Number of deviations downward: Frequency    7\n",
      "dtype: int64 \n",
      "Number of deviations upward: Frequency    10\n",
      "dtype: int64\n"
     ]
    }
   ],
   "source": [
    "std_thresh = 4\n",
    "\n",
    "down_nums = summary[summary.index <= -std_thresh].sum()\n",
    "up_nums = summary[summary.index >= std_thresh].sum()\n",
    "\n",
    "print(\"Threshold stdev: {0} \\nNumber of deviations downward: {1} \\nNumber of deviations upward: {2}\".format(std_thresh,\n",
    "                                                                                                           down_nums,\n",
    "                                                                                                           up_nums))"
   ]
  },
  {
   "cell_type": "code",
   "execution_count": 16,
   "metadata": {
    "collapsed": true
   },
   "outputs": [],
   "source": [
    "full_df.to_csv('avgo.csv')"
   ]
  },
  {
   "cell_type": "code",
   "execution_count": null,
   "metadata": {
    "collapsed": true
   },
   "outputs": [],
   "source": []
  },
  {
   "cell_type": "code",
   "execution_count": null,
   "metadata": {
    "collapsed": true
   },
   "outputs": [],
   "source": []
  }
 ],
 "metadata": {
  "kernelspec": {
   "display_name": "Python 3",
   "language": "python",
   "name": "python3"
  },
  "language_info": {
   "codemirror_mode": {
    "name": "ipython",
    "version": 3
   },
   "file_extension": ".py",
   "mimetype": "text/x-python",
   "name": "python",
   "nbconvert_exporter": "python",
   "pygments_lexer": "ipython3",
   "version": "3.6.1"
  }
 },
 "nbformat": 4,
 "nbformat_minor": 2
}
